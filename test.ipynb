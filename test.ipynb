{
 "cells": [
  {
   "cell_type": "code",
   "execution_count": 1,
   "id": "e59544ea",
   "metadata": {},
   "outputs": [],
   "source": [
    "from pymilvus import MilvusClient\n",
    "\n",
    "host = \"localhost\"\n",
    "port = 19531\n",
    "uri = f\"http://{host}:{port}\"\n",
    "client = MilvusClient(uri=uri)"
   ]
  },
  {
   "cell_type": "code",
   "execution_count": 2,
   "id": "72996a9f",
   "metadata": {},
   "outputs": [],
   "source": [
    "chunk_id = 459427222980660815\n",
    "collection_name = \"vdb_test\"\n",
    "\n",
    "response1 = client.get(\n",
    "            collection_name=collection_name,\n",
    "            ids=[chunk_id],\n",
    "        )"
   ]
  },
  {
   "cell_type": "code",
   "execution_count": 4,
   "id": "b38aedd3",
   "metadata": {},
   "outputs": [
    {
     "name": "stdout",
     "output_type": "stream",
     "text": [
      "400 ms ± 467 μs per loop (mean ± std. dev. of 7 runs, 1 loop each)\n"
     ]
    }
   ],
   "source": [
    "%timeit response1 = client.get(collection_name=collection_name, ids=[chunk_id])"
   ]
  },
  {
   "cell_type": "code",
   "execution_count": 20,
   "id": "102123fd",
   "metadata": {},
   "outputs": [
    {
     "name": "stdout",
     "output_type": "stream",
     "text": [
      "400 ms ± 1.07 ms per loop (mean ± std. dev. of 7 runs, 1 loop each)\n"
     ]
    }
   ],
   "source": [
    "%timeit response2 = client.query(collection_name=collection_name, filter=f\"_id == {chunk_id}\", limit=1)"
   ]
  },
  {
   "cell_type": "code",
   "execution_count": 22,
   "id": "17e60ce5",
   "metadata": {},
   "outputs": [],
   "source": [
    "INDEX_PARAMS = [\n",
    "    {\n",
    "        \"metric_type\": \"BM25\",\n",
    "        \"index_type\": \"SPARSE_INVERTED_INDEX\",\n",
    "    },  # For sparse vector\n",
    "    {\n",
    "        \"metric_type\": \"COSINE\",\n",
    "        \"index_type\": \"HNSW\",\n",
    "        \"params\": {\"M\": 32, \"efConstruction\": 100},\n",
    "    },  # For dense vector\n",
    "]\n",
    "\n",
    "\n",
    "SEARCH_PARAMS = [\n",
    "        {\n",
    "            \"metric_type\": \"COSINE\",\n",
    "            \"params\": {\n",
    "                \"ef\": 20,\n",
    "                \"radius\": 0.5,\n",
    "                \"range_filter\": 1.0,\n",
    "            },\n",
    "        },\n",
    "        {\"metric_type\": \"BM25\", \"params\": {\"drop_ratio_build\": 0.2}},\n",
    "    ]\n"
   ]
  },
  {
   "cell_type": "code",
   "execution_count": 24,
   "id": "029f667f",
   "metadata": {},
   "outputs": [],
   "source": [
    "from langchain_milvus import BM25BuiltInFunction, Milvus\n",
    "from langchain_openai import OpenAIEmbeddings\n",
    "from dotenv import load_dotenv\n",
    "import os\n",
    "\n",
    "load_dotenv()\n",
    "\n",
    "EMBEDDER_MODEL_NAME = os.environ.get(\"EMBEDDER_MODEL_NAME\", 'Qwen/Qwen3-Embedding-0.6B')\n",
    "EMBEDDER_BASE_URL = os.environ.get(\"EMBEDDER_BASE_URL\")\n",
    "EMBEDDER_API_KEY = os.environ.get(\"EMBEDDER_API_KEY\")\n",
    "\n",
    "uri = f\"http://{host}:{port}\"\n",
    "\n",
    "embeddings = OpenAIEmbeddings(\n",
    "            model=EMBEDDER_MODEL_NAME,\n",
    "            base_url=EMBEDDER_BASE_URL,\n",
    "            api_key=EMBEDDER_API_KEY,\n",
    "        )\n",
    "\n",
    "sparse_embeddings = BM25BuiltInFunction(enable_match=True)\n",
    "\n",
    "vector_store = Milvus(\n",
    "    connection_args={\"uri\": uri},\n",
    "    collection_name=collection_name,\n",
    "    embedding_function=embeddings,\n",
    "    auto_id=True,\n",
    "    index_params=INDEX_PARAMS,\n",
    "    primary_field=\"_id\",\n",
    "    enable_dynamic_field=True,\n",
    "    partition_key_field=\"partition\",\n",
    "    builtin_function=sparse_embeddings,\n",
    "    vector_field=[\"sparse\", \"vector\"],\n",
    "    consistency_level=\"Strong\",\n",
    ")"
   ]
  },
  {
   "cell_type": "code",
   "execution_count": 29,
   "id": "f8ded16a",
   "metadata": {},
   "outputs": [
    {
     "name": "stdout",
     "output_type": "stream",
     "text": [
      "429 ms ± 70.4 ms per loop (mean ± std. dev. of 7 runs, 1 loop each)\n"
     ]
    }
   ],
   "source": [
    "%timeit vector_store.similarity_search_with_score(query='Quels sont les activités de Linagora', k=20, fetch_k=20, ranker_type=\"rrf\", ranker_params={\"k\": 100}, param=SEARCH_PARAMS)"
   ]
  },
  {
   "cell_type": "code",
   "execution_count": null,
   "id": "cb87102c",
   "metadata": {},
   "outputs": [],
   "source": []
  }
 ],
 "metadata": {
  "kernelspec": {
   "display_name": "ragondin",
   "language": "python",
   "name": "python3"
  },
  "language_info": {
   "codemirror_mode": {
    "name": "ipython",
    "version": 3
   },
   "file_extension": ".py",
   "mimetype": "text/x-python",
   "name": "python",
   "nbconvert_exporter": "python",
   "pygments_lexer": "ipython3",
   "version": "3.12.7"
  }
 },
 "nbformat": 4,
 "nbformat_minor": 5
}
